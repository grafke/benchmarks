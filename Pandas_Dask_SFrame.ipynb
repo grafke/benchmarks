{
 "cells": [
  {
   "cell_type": "markdown",
   "metadata": {},
   "source": [
    "# Pandas Dataframe vs Dask Dataframe vs SFrame"
   ]
  },
  {
   "cell_type": "markdown",
   "metadata": {},
   "source": [
    "## Load data"
   ]
  },
  {
   "cell_type": "code",
   "execution_count": 336,
   "metadata": {
    "collapsed": false
   },
   "outputs": [],
   "source": [
    "import dask\n",
    "import pandas as pd\n",
    "import dask.dataframe as dd\n",
    "from sframe import SFrame as sf\n",
    "\n",
    "import sframe.aggregate as agg"
   ]
  },
  {
   "cell_type": "markdown",
   "metadata": {},
   "source": [
    "Dask is a ligh-weight framework to work with large dataframes, that do not fit in memory. \n",
    "Pandas by default loads df in memory, Dask on the other hand uses lazy eval. SFrame \n",
    "\n",
    "More info: http://dask.pydata.org/en/latest/dataframe-overview.html"
   ]
  },
  {
   "cell_type": "code",
   "execution_count": 337,
   "metadata": {
    "collapsed": true
   },
   "outputs": [],
   "source": [
    "inf_small = 'data.tsv' # small file, size: 154M\n",
    "inf_big = 'big_data.tsv' # big file, size: 21G\n",
    "\n",
    "columns = ['lat', 'long', 'class']\n",
    "delimiter = '\\t'"
   ]
  },
  {
   "cell_type": "markdown",
   "metadata": {},
   "source": [
    "# Start small"
   ]
  },
  {
   "cell_type": "code",
   "execution_count": 338,
   "metadata": {
    "collapsed": false
   },
   "outputs": [
    {
     "name": "stdout",
     "output_type": "stream",
     "text": [
      "CPU times: user 1.95 s, sys: 203 ms, total: 2.16 s\n",
      "Wall time: 2.27 s\n"
     ]
    }
   ],
   "source": [
    "%%time\n",
    "pdf = (pd.\n",
    "       read_csv(inf_small, delimiter=delimiter, names=columns)) # Pandas"
   ]
  },
  {
   "cell_type": "code",
   "execution_count": 339,
   "metadata": {
    "collapsed": false
   },
   "outputs": [
    {
     "name": "stdout",
     "output_type": "stream",
     "text": [
      "CPU times: user 12.8 ms, sys: 13.6 ms, total: 26.4 ms\n",
      "Wall time: 28.9 ms\n"
     ]
    }
   ],
   "source": [
    "%%time\n",
    "ddf = (dd.\n",
    "       read_csv(inf_small, delimiter=delimiter, names=columns)) # Dask"
   ]
  },
  {
   "cell_type": "code",
   "execution_count": 340,
   "metadata": {
    "collapsed": false
   },
   "outputs": [
    {
     "name": "stdout",
     "output_type": "stream",
     "text": [
      "CPU times: user 9.01 s, sys: 497 ms, total: 9.51 s\n",
      "Wall time: 4.71 s\n"
     ]
    }
   ],
   "source": [
    "%%time\n",
    "sdf = (sf.\n",
    "       read_csv(inf_small, delimiter=delimiter, header=False, verbose=False).\n",
    "       rename({'X1': columns[0],\n",
    "               'X2': columns[1],\n",
    "               'X3': columns[2]})) #SFrame"
   ]
  },
  {
   "cell_type": "code",
   "execution_count": 341,
   "metadata": {
    "collapsed": false
   },
   "outputs": [
    {
     "name": "stdout",
     "output_type": "stream",
     "text": [
      "CPU times: user 248 µs, sys: 47 µs, total: 295 µs\n",
      "Wall time: 273 µs\n"
     ]
    },
    {
     "data": {
      "text/html": [
       "<div>\n",
       "<table border=\"1\" class=\"dataframe\">\n",
       "  <thead>\n",
       "    <tr style=\"text-align: right;\">\n",
       "      <th></th>\n",
       "      <th>lat</th>\n",
       "      <th>long</th>\n",
       "      <th>class</th>\n",
       "    </tr>\n",
       "  </thead>\n",
       "  <tbody>\n",
       "    <tr>\n",
       "      <th>3733254</th>\n",
       "      <td>34.045365</td>\n",
       "      <td>-77.887768</td>\n",
       "      <td>class2</td>\n",
       "    </tr>\n",
       "    <tr>\n",
       "      <th>3733255</th>\n",
       "      <td>36.613393</td>\n",
       "      <td>-80.441027</td>\n",
       "      <td>class2</td>\n",
       "    </tr>\n",
       "    <tr>\n",
       "      <th>3733256</th>\n",
       "      <td>37.645448</td>\n",
       "      <td>-112.424236</td>\n",
       "      <td>class5</td>\n",
       "    </tr>\n",
       "    <tr>\n",
       "      <th>3733257</th>\n",
       "      <td>37.645448</td>\n",
       "      <td>-112.424236</td>\n",
       "      <td>class5</td>\n",
       "    </tr>\n",
       "    <tr>\n",
       "      <th>3733258</th>\n",
       "      <td>37.645448</td>\n",
       "      <td>-112.424236</td>\n",
       "      <td>class1</td>\n",
       "    </tr>\n",
       "  </tbody>\n",
       "</table>\n",
       "</div>"
      ],
      "text/plain": [
       "               lat        long   class\n",
       "3733254  34.045365  -77.887768  class2\n",
       "3733255  36.613393  -80.441027  class2\n",
       "3733256  37.645448 -112.424236  class5\n",
       "3733257  37.645448 -112.424236  class5\n",
       "3733258  37.645448 -112.424236  class1"
      ]
     },
     "execution_count": 341,
     "metadata": {},
     "output_type": "execute_result"
    }
   ],
   "source": [
    "%%time\n",
    "pdf.tail(5) # Pandas"
   ]
  },
  {
   "cell_type": "code",
   "execution_count": 342,
   "metadata": {
    "collapsed": false
   },
   "outputs": [
    {
     "name": "stdout",
     "output_type": "stream",
     "text": [
      "CPU times: user 435 ms, sys: 117 ms, total: 552 ms\n",
      "Wall time: 566 ms\n"
     ]
    },
    {
     "data": {
      "text/html": [
       "<div>\n",
       "<table border=\"1\" class=\"dataframe\">\n",
       "  <thead>\n",
       "    <tr style=\"text-align: right;\">\n",
       "      <th></th>\n",
       "      <th>lat</th>\n",
       "      <th>long</th>\n",
       "      <th>class</th>\n",
       "    </tr>\n",
       "  </thead>\n",
       "  <tbody>\n",
       "    <tr>\n",
       "      <th>757923</th>\n",
       "      <td>34.045365</td>\n",
       "      <td>-77.8878</td>\n",
       "      <td>class2</td>\n",
       "    </tr>\n",
       "    <tr>\n",
       "      <th>757924</th>\n",
       "      <td>36.613393</td>\n",
       "      <td>-80.441</td>\n",
       "      <td>class2</td>\n",
       "    </tr>\n",
       "    <tr>\n",
       "      <th>757925</th>\n",
       "      <td>37.645448</td>\n",
       "      <td>-112.424</td>\n",
       "      <td>class5</td>\n",
       "    </tr>\n",
       "    <tr>\n",
       "      <th>757926</th>\n",
       "      <td>37.645448</td>\n",
       "      <td>-112.424</td>\n",
       "      <td>class5</td>\n",
       "    </tr>\n",
       "    <tr>\n",
       "      <th>757927</th>\n",
       "      <td>37.645448</td>\n",
       "      <td>-112.424</td>\n",
       "      <td>class1</td>\n",
       "    </tr>\n",
       "  </tbody>\n",
       "</table>\n",
       "</div>"
      ],
      "text/plain": [
       "              lat     long   class\n",
       "757923  34.045365 -77.8878  class2\n",
       "757924  36.613393  -80.441  class2\n",
       "757925  37.645448 -112.424  class5\n",
       "757926  37.645448 -112.424  class5\n",
       "757927  37.645448 -112.424  class1"
      ]
     },
     "execution_count": 342,
     "metadata": {},
     "output_type": "execute_result"
    }
   ],
   "source": [
    "%%time\n",
    "ddf.tail(5) # Dask"
   ]
  },
  {
   "cell_type": "code",
   "execution_count": 343,
   "metadata": {
    "collapsed": false
   },
   "outputs": [
    {
     "name": "stdout",
     "output_type": "stream",
     "text": [
      "CPU times: user 10.2 ms, sys: 3.59 ms, total: 13.8 ms\n",
      "Wall time: 13.8 ms\n"
     ]
    },
    {
     "data": {
      "text/html": [
       "<div style=\"max-height:1000px;max-width:1500px;overflow:auto;\"><table frame=\"box\" rules=\"cols\">\n",
       "    <tr>\n",
       "        <th style=\"padding-left: 1em; padding-right: 1em; text-align: center\">lat</th>\n",
       "        <th style=\"padding-left: 1em; padding-right: 1em; text-align: center\">long</th>\n",
       "        <th style=\"padding-left: 1em; padding-right: 1em; text-align: center\">class</th>\n",
       "    </tr>\n",
       "    <tr>\n",
       "        <td style=\"padding-left: 1em; padding-right: 1em; text-align: center; vertical-align: top\">34.04536492</td>\n",
       "        <td style=\"padding-left: 1em; padding-right: 1em; text-align: center; vertical-align: top\">-77.8877682</td>\n",
       "        <td style=\"padding-left: 1em; padding-right: 1em; text-align: center; vertical-align: top\">class2</td>\n",
       "    </tr>\n",
       "    <tr>\n",
       "        <td style=\"padding-left: 1em; padding-right: 1em; text-align: center; vertical-align: top\">36.613393279</td>\n",
       "        <td style=\"padding-left: 1em; padding-right: 1em; text-align: center; vertical-align: top\">-80.4410271927</td>\n",
       "        <td style=\"padding-left: 1em; padding-right: 1em; text-align: center; vertical-align: top\">class2</td>\n",
       "    </tr>\n",
       "    <tr>\n",
       "        <td style=\"padding-left: 1em; padding-right: 1em; text-align: center; vertical-align: top\">37.6454475618</td>\n",
       "        <td style=\"padding-left: 1em; padding-right: 1em; text-align: center; vertical-align: top\">-112.424235654</td>\n",
       "        <td style=\"padding-left: 1em; padding-right: 1em; text-align: center; vertical-align: top\">class5</td>\n",
       "    </tr>\n",
       "    <tr>\n",
       "        <td style=\"padding-left: 1em; padding-right: 1em; text-align: center; vertical-align: top\">37.6454475618</td>\n",
       "        <td style=\"padding-left: 1em; padding-right: 1em; text-align: center; vertical-align: top\">-112.424235654</td>\n",
       "        <td style=\"padding-left: 1em; padding-right: 1em; text-align: center; vertical-align: top\">class5</td>\n",
       "    </tr>\n",
       "    <tr>\n",
       "        <td style=\"padding-left: 1em; padding-right: 1em; text-align: center; vertical-align: top\">37.6454475618</td>\n",
       "        <td style=\"padding-left: 1em; padding-right: 1em; text-align: center; vertical-align: top\">-112.424235654</td>\n",
       "        <td style=\"padding-left: 1em; padding-right: 1em; text-align: center; vertical-align: top\">class1</td>\n",
       "    </tr>\n",
       "</table>\n",
       "[5 rows x 3 columns]<br/>\n",
       "</div>"
      ],
      "text/plain": [
       "Columns:\n",
       "\tlat\tfloat\n",
       "\tlong\tfloat\n",
       "\tclass\tstr\n",
       "\n",
       "Rows: 5\n",
       "\n",
       "Data:\n",
       "+---------------+----------------+--------+\n",
       "|      lat      |      long      | class  |\n",
       "+---------------+----------------+--------+\n",
       "|  34.04536492  |  -77.8877682   | class2 |\n",
       "|  36.613393279 | -80.4410271927 | class2 |\n",
       "| 37.6454475618 | -112.424235654 | class5 |\n",
       "| 37.6454475618 | -112.424235654 | class5 |\n",
       "| 37.6454475618 | -112.424235654 | class1 |\n",
       "+---------------+----------------+--------+\n",
       "[5 rows x 3 columns]"
      ]
     },
     "execution_count": 343,
     "metadata": {},
     "output_type": "execute_result"
    }
   ],
   "source": [
    "%%time\n",
    "sdf.tail(5) # SFrame"
   ]
  },
  {
   "cell_type": "markdown",
   "metadata": {},
   "source": [
    "# Now go Big"
   ]
  },
  {
   "cell_type": "code",
   "execution_count": 344,
   "metadata": {
    "collapsed": false
   },
   "outputs": [
    {
     "name": "stdout",
     "output_type": "stream",
     "text": [
      "CPU times: user 4min 31s, sys: 1min 23s, total: 5min 55s\n",
      "Wall time: 6min 48s\n"
     ]
    }
   ],
   "source": [
    "%%time\n",
    "bpdf = pd.read_csv(inf_big, delimiter=delimiter, names=columns) # Pandas"
   ]
  },
  {
   "cell_type": "code",
   "execution_count": 345,
   "metadata": {
    "collapsed": false
   },
   "outputs": [
    {
     "name": "stdout",
     "output_type": "stream",
     "text": [
      "CPU times: user 170 ms, sys: 52.6 ms, total: 223 ms\n",
      "Wall time: 288 ms\n"
     ]
    }
   ],
   "source": [
    "%%time\n",
    "bddf = dd.read_csv(inf_big, \n",
    "                   delimiter=delimiter, \n",
    "                   names=columns) # Dask"
   ]
  },
  {
   "cell_type": "code",
   "execution_count": 346,
   "metadata": {
    "collapsed": false
   },
   "outputs": [
    {
     "name": "stdout",
     "output_type": "stream",
     "text": [
      "CPU times: user 11min 36s, sys: 31.2 s, total: 12min 7s\n",
      "Wall time: 5min 27s\n"
     ]
    }
   ],
   "source": [
    "%%time\n",
    "bssf = (sf.\n",
    "       read_csv(inf_big, delimiter=delimiter, header=False, verbose=False).\n",
    "       rename({'X1': columns[0],\n",
    "               'X2': columns[1],\n",
    "               'X3': columns[2]})) # SFrame"
   ]
  },
  {
   "cell_type": "code",
   "execution_count": 351,
   "metadata": {
    "collapsed": false
   },
   "outputs": [
    {
     "name": "stdout",
     "output_type": "stream",
     "text": [
      "CPU times: user 828 µs, sys: 1.79 ms, total: 2.62 ms\n",
      "Wall time: 2.54 ms\n"
     ]
    },
    {
     "data": {
      "text/html": [
       "<div>\n",
       "<table border=\"1\" class=\"dataframe\">\n",
       "  <thead>\n",
       "    <tr style=\"text-align: right;\">\n",
       "      <th></th>\n",
       "      <th>lat</th>\n",
       "      <th>long</th>\n",
       "      <th>class</th>\n",
       "    </tr>\n",
       "  </thead>\n",
       "  <tbody>\n",
       "    <tr>\n",
       "      <th>522556260</th>\n",
       "      <td>45.697158</td>\n",
       "      <td>-111.049998</td>\n",
       "      <td>class5</td>\n",
       "    </tr>\n",
       "    <tr>\n",
       "      <th>522556261</th>\n",
       "      <td>45.697158</td>\n",
       "      <td>-111.049998</td>\n",
       "      <td>class5</td>\n",
       "    </tr>\n",
       "    <tr>\n",
       "      <th>522556262</th>\n",
       "      <td>45.697158</td>\n",
       "      <td>-111.049998</td>\n",
       "      <td>class5</td>\n",
       "    </tr>\n",
       "    <tr>\n",
       "      <th>522556263</th>\n",
       "      <td>45.697158</td>\n",
       "      <td>-111.049998</td>\n",
       "      <td>class5</td>\n",
       "    </tr>\n",
       "    <tr>\n",
       "      <th>522556264</th>\n",
       "      <td>45.697158</td>\n",
       "      <td>-111.049998</td>\n",
       "      <td>class5</td>\n",
       "    </tr>\n",
       "    <tr>\n",
       "      <th>522556265</th>\n",
       "      <td>37.801181</td>\n",
       "      <td>-122.426827</td>\n",
       "      <td>class5</td>\n",
       "    </tr>\n",
       "    <tr>\n",
       "      <th>522556266</th>\n",
       "      <td>37.801181</td>\n",
       "      <td>-122.426827</td>\n",
       "      <td>class5</td>\n",
       "    </tr>\n",
       "    <tr>\n",
       "      <th>522556267</th>\n",
       "      <td>37.801181</td>\n",
       "      <td>-122.426827</td>\n",
       "      <td>class5</td>\n",
       "    </tr>\n",
       "    <tr>\n",
       "      <th>522556268</th>\n",
       "      <td>37.801181</td>\n",
       "      <td>-122.426827</td>\n",
       "      <td>class5</td>\n",
       "    </tr>\n",
       "    <tr>\n",
       "      <th>522556269</th>\n",
       "      <td>37.801181</td>\n",
       "      <td>-122.426827</td>\n",
       "      <td>class5</td>\n",
       "    </tr>\n",
       "  </tbody>\n",
       "</table>\n",
       "</div>"
      ],
      "text/plain": [
       "                 lat        long   class\n",
       "522556260  45.697158 -111.049998  class5\n",
       "522556261  45.697158 -111.049998  class5\n",
       "522556262  45.697158 -111.049998  class5\n",
       "522556263  45.697158 -111.049998  class5\n",
       "522556264  45.697158 -111.049998  class5\n",
       "522556265  37.801181 -122.426827  class5\n",
       "522556266  37.801181 -122.426827  class5\n",
       "522556267  37.801181 -122.426827  class5\n",
       "522556268  37.801181 -122.426827  class5\n",
       "522556269  37.801181 -122.426827  class5"
      ]
     },
     "execution_count": 351,
     "metadata": {},
     "output_type": "execute_result"
    }
   ],
   "source": [
    "%%time\n",
    "bpdf.tail(100000).head(10) # tail big Pandas dataframe"
   ]
  },
  {
   "cell_type": "code",
   "execution_count": 352,
   "metadata": {
    "collapsed": false
   },
   "outputs": [
    {
     "name": "stdout",
     "output_type": "stream",
     "text": [
      "CPU times: user 262 ms, sys: 77.9 ms, total: 340 ms\n",
      "Wall time: 344 ms\n"
     ]
    },
    {
     "data": {
      "text/html": [
       "<div>\n",
       "<table border=\"1\" class=\"dataframe\">\n",
       "  <thead>\n",
       "    <tr style=\"text-align: right;\">\n",
       "      <th></th>\n",
       "      <th>lat</th>\n",
       "      <th>long</th>\n",
       "      <th>class</th>\n",
       "    </tr>\n",
       "  </thead>\n",
       "  <tbody>\n",
       "    <tr>\n",
       "      <th>292009</th>\n",
       "      <td>45.697158</td>\n",
       "      <td>-111.05</td>\n",
       "      <td>class5</td>\n",
       "    </tr>\n",
       "    <tr>\n",
       "      <th>292010</th>\n",
       "      <td>45.697158</td>\n",
       "      <td>-111.05</td>\n",
       "      <td>class5</td>\n",
       "    </tr>\n",
       "    <tr>\n",
       "      <th>292011</th>\n",
       "      <td>45.697158</td>\n",
       "      <td>-111.05</td>\n",
       "      <td>class5</td>\n",
       "    </tr>\n",
       "    <tr>\n",
       "      <th>292012</th>\n",
       "      <td>45.697158</td>\n",
       "      <td>-111.05</td>\n",
       "      <td>class5</td>\n",
       "    </tr>\n",
       "    <tr>\n",
       "      <th>292013</th>\n",
       "      <td>45.697158</td>\n",
       "      <td>-111.05</td>\n",
       "      <td>class5</td>\n",
       "    </tr>\n",
       "    <tr>\n",
       "      <th>292014</th>\n",
       "      <td>37.801181</td>\n",
       "      <td>-122.427</td>\n",
       "      <td>class5</td>\n",
       "    </tr>\n",
       "    <tr>\n",
       "      <th>292015</th>\n",
       "      <td>37.801181</td>\n",
       "      <td>-122.427</td>\n",
       "      <td>class5</td>\n",
       "    </tr>\n",
       "    <tr>\n",
       "      <th>292016</th>\n",
       "      <td>37.801181</td>\n",
       "      <td>-122.427</td>\n",
       "      <td>class5</td>\n",
       "    </tr>\n",
       "    <tr>\n",
       "      <th>292017</th>\n",
       "      <td>37.801181</td>\n",
       "      <td>-122.427</td>\n",
       "      <td>class5</td>\n",
       "    </tr>\n",
       "    <tr>\n",
       "      <th>292018</th>\n",
       "      <td>37.801181</td>\n",
       "      <td>-122.427</td>\n",
       "      <td>class5</td>\n",
       "    </tr>\n",
       "  </tbody>\n",
       "</table>\n",
       "</div>"
      ],
      "text/plain": [
       "              lat     long   class\n",
       "292009  45.697158  -111.05  class5\n",
       "292010  45.697158  -111.05  class5\n",
       "292011  45.697158  -111.05  class5\n",
       "292012  45.697158  -111.05  class5\n",
       "292013  45.697158  -111.05  class5\n",
       "292014  37.801181 -122.427  class5\n",
       "292015  37.801181 -122.427  class5\n",
       "292016  37.801181 -122.427  class5\n",
       "292017  37.801181 -122.427  class5\n",
       "292018  37.801181 -122.427  class5"
      ]
     },
     "execution_count": 352,
     "metadata": {},
     "output_type": "execute_result"
    }
   ],
   "source": [
    "%%time\n",
    "bddf.tail(100000).head(10) # tail big Dask dataframe"
   ]
  },
  {
   "cell_type": "code",
   "execution_count": 353,
   "metadata": {
    "collapsed": false
   },
   "outputs": [
    {
     "name": "stdout",
     "output_type": "stream",
     "text": [
      "CPU times: user 56.4 ms, sys: 25.9 ms, total: 82.3 ms\n",
      "Wall time: 89.9 ms\n"
     ]
    },
    {
     "data": {
      "text/html": [
       "<div style=\"max-height:1000px;max-width:1500px;overflow:auto;\"><table frame=\"box\" rules=\"cols\">\n",
       "    <tr>\n",
       "        <th style=\"padding-left: 1em; padding-right: 1em; text-align: center\">lat</th>\n",
       "        <th style=\"padding-left: 1em; padding-right: 1em; text-align: center\">long</th>\n",
       "        <th style=\"padding-left: 1em; padding-right: 1em; text-align: center\">class</th>\n",
       "    </tr>\n",
       "    <tr>\n",
       "        <td style=\"padding-left: 1em; padding-right: 1em; text-align: center; vertical-align: top\">45.6971577621</td>\n",
       "        <td style=\"padding-left: 1em; padding-right: 1em; text-align: center; vertical-align: top\">-111.049997807</td>\n",
       "        <td style=\"padding-left: 1em; padding-right: 1em; text-align: center; vertical-align: top\">class5</td>\n",
       "    </tr>\n",
       "    <tr>\n",
       "        <td style=\"padding-left: 1em; padding-right: 1em; text-align: center; vertical-align: top\">45.6971577621</td>\n",
       "        <td style=\"padding-left: 1em; padding-right: 1em; text-align: center; vertical-align: top\">-111.049997807</td>\n",
       "        <td style=\"padding-left: 1em; padding-right: 1em; text-align: center; vertical-align: top\">class5</td>\n",
       "    </tr>\n",
       "    <tr>\n",
       "        <td style=\"padding-left: 1em; padding-right: 1em; text-align: center; vertical-align: top\">45.6971577621</td>\n",
       "        <td style=\"padding-left: 1em; padding-right: 1em; text-align: center; vertical-align: top\">-111.049997807</td>\n",
       "        <td style=\"padding-left: 1em; padding-right: 1em; text-align: center; vertical-align: top\">class5</td>\n",
       "    </tr>\n",
       "    <tr>\n",
       "        <td style=\"padding-left: 1em; padding-right: 1em; text-align: center; vertical-align: top\">45.6971577621</td>\n",
       "        <td style=\"padding-left: 1em; padding-right: 1em; text-align: center; vertical-align: top\">-111.049997807</td>\n",
       "        <td style=\"padding-left: 1em; padding-right: 1em; text-align: center; vertical-align: top\">class5</td>\n",
       "    </tr>\n",
       "    <tr>\n",
       "        <td style=\"padding-left: 1em; padding-right: 1em; text-align: center; vertical-align: top\">45.6971577621</td>\n",
       "        <td style=\"padding-left: 1em; padding-right: 1em; text-align: center; vertical-align: top\">-111.049997807</td>\n",
       "        <td style=\"padding-left: 1em; padding-right: 1em; text-align: center; vertical-align: top\">class5</td>\n",
       "    </tr>\n",
       "    <tr>\n",
       "        <td style=\"padding-left: 1em; padding-right: 1em; text-align: center; vertical-align: top\">37.8011810461</td>\n",
       "        <td style=\"padding-left: 1em; padding-right: 1em; text-align: center; vertical-align: top\">-122.42682673</td>\n",
       "        <td style=\"padding-left: 1em; padding-right: 1em; text-align: center; vertical-align: top\">class5</td>\n",
       "    </tr>\n",
       "    <tr>\n",
       "        <td style=\"padding-left: 1em; padding-right: 1em; text-align: center; vertical-align: top\">37.8011810461</td>\n",
       "        <td style=\"padding-left: 1em; padding-right: 1em; text-align: center; vertical-align: top\">-122.42682673</td>\n",
       "        <td style=\"padding-left: 1em; padding-right: 1em; text-align: center; vertical-align: top\">class5</td>\n",
       "    </tr>\n",
       "    <tr>\n",
       "        <td style=\"padding-left: 1em; padding-right: 1em; text-align: center; vertical-align: top\">37.8011810461</td>\n",
       "        <td style=\"padding-left: 1em; padding-right: 1em; text-align: center; vertical-align: top\">-122.42682673</td>\n",
       "        <td style=\"padding-left: 1em; padding-right: 1em; text-align: center; vertical-align: top\">class5</td>\n",
       "    </tr>\n",
       "    <tr>\n",
       "        <td style=\"padding-left: 1em; padding-right: 1em; text-align: center; vertical-align: top\">37.8011810461</td>\n",
       "        <td style=\"padding-left: 1em; padding-right: 1em; text-align: center; vertical-align: top\">-122.42682673</td>\n",
       "        <td style=\"padding-left: 1em; padding-right: 1em; text-align: center; vertical-align: top\">class5</td>\n",
       "    </tr>\n",
       "    <tr>\n",
       "        <td style=\"padding-left: 1em; padding-right: 1em; text-align: center; vertical-align: top\">37.8011810461</td>\n",
       "        <td style=\"padding-left: 1em; padding-right: 1em; text-align: center; vertical-align: top\">-122.42682673</td>\n",
       "        <td style=\"padding-left: 1em; padding-right: 1em; text-align: center; vertical-align: top\">class5</td>\n",
       "    </tr>\n",
       "</table>\n",
       "[10 rows x 3 columns]<br/>\n",
       "</div>"
      ],
      "text/plain": [
       "Columns:\n",
       "\tlat\tfloat\n",
       "\tlong\tfloat\n",
       "\tclass\tstr\n",
       "\n",
       "Rows: 10\n",
       "\n",
       "Data:\n",
       "+---------------+----------------+--------+\n",
       "|      lat      |      long      | class  |\n",
       "+---------------+----------------+--------+\n",
       "| 45.6971577621 | -111.049997807 | class5 |\n",
       "| 45.6971577621 | -111.049997807 | class5 |\n",
       "| 45.6971577621 | -111.049997807 | class5 |\n",
       "| 45.6971577621 | -111.049997807 | class5 |\n",
       "| 45.6971577621 | -111.049997807 | class5 |\n",
       "| 37.8011810461 | -122.42682673  | class5 |\n",
       "| 37.8011810461 | -122.42682673  | class5 |\n",
       "| 37.8011810461 | -122.42682673  | class5 |\n",
       "| 37.8011810461 | -122.42682673  | class5 |\n",
       "| 37.8011810461 | -122.42682673  | class5 |\n",
       "+---------------+----------------+--------+\n",
       "[10 rows x 3 columns]"
      ]
     },
     "execution_count": 353,
     "metadata": {},
     "output_type": "execute_result"
    }
   ],
   "source": [
    "%%time\n",
    "bssf.tail(100000).head(10) # tail big SFrame"
   ]
  },
  {
   "cell_type": "markdown",
   "metadata": {},
   "source": [
    "My laptop has 8GB RAM, 4 CPUs, and SSD HD."
   ]
  },
  {
   "cell_type": "markdown",
   "metadata": {},
   "source": [
    "# Transform small"
   ]
  },
  {
   "cell_type": "code",
   "execution_count": 354,
   "metadata": {
    "collapsed": false
   },
   "outputs": [
    {
     "name": "stdout",
     "output_type": "stream",
     "text": [
      "CPU times: user 260 ms, sys: 201 ms, total: 460 ms\n",
      "Wall time: 515 ms\n"
     ]
    },
    {
     "data": {
      "text/html": [
       "<div>\n",
       "<table border=\"1\" class=\"dataframe\">\n",
       "  <thead>\n",
       "    <tr style=\"text-align: right;\">\n",
       "      <th></th>\n",
       "      <th>lat</th>\n",
       "      <th>long</th>\n",
       "    </tr>\n",
       "    <tr>\n",
       "      <th>class</th>\n",
       "      <th></th>\n",
       "      <th></th>\n",
       "    </tr>\n",
       "  </thead>\n",
       "  <tbody>\n",
       "    <tr>\n",
       "      <th>class1</th>\n",
       "      <td>863138</td>\n",
       "      <td>863138</td>\n",
       "    </tr>\n",
       "    <tr>\n",
       "      <th>class2</th>\n",
       "      <td>71834</td>\n",
       "      <td>71834</td>\n",
       "    </tr>\n",
       "    <tr>\n",
       "      <th>class3</th>\n",
       "      <td>410</td>\n",
       "      <td>410</td>\n",
       "    </tr>\n",
       "    <tr>\n",
       "      <th>class4</th>\n",
       "      <td>84445</td>\n",
       "      <td>84445</td>\n",
       "    </tr>\n",
       "    <tr>\n",
       "      <th>class5</th>\n",
       "      <td>2713428</td>\n",
       "      <td>2713428</td>\n",
       "    </tr>\n",
       "  </tbody>\n",
       "</table>\n",
       "</div>"
      ],
      "text/plain": [
       "            lat     long\n",
       "class                   \n",
       "class1   863138   863138\n",
       "class2    71834    71834\n",
       "class3      410      410\n",
       "class4    84445    84445\n",
       "class5  2713428  2713428"
      ]
     },
     "execution_count": 354,
     "metadata": {},
     "output_type": "execute_result"
    }
   ],
   "source": [
    "%%time\n",
    "(pdf.\n",
    " groupby('class').\n",
    " count()) # Pandas"
   ]
  },
  {
   "cell_type": "code",
   "execution_count": 355,
   "metadata": {
    "collapsed": false
   },
   "outputs": [
    {
     "name": "stdout",
     "output_type": "stream",
     "text": [
      "CPU times: user 3.27 s, sys: 1.38 s, total: 4.65 s\n",
      "Wall time: 3.24 s\n"
     ]
    },
    {
     "data": {
      "text/html": [
       "<div>\n",
       "<table border=\"1\" class=\"dataframe\">\n",
       "  <thead>\n",
       "    <tr style=\"text-align: right;\">\n",
       "      <th></th>\n",
       "      <th>lat</th>\n",
       "      <th>long</th>\n",
       "    </tr>\n",
       "    <tr>\n",
       "      <th>class</th>\n",
       "      <th></th>\n",
       "      <th></th>\n",
       "    </tr>\n",
       "  </thead>\n",
       "  <tbody>\n",
       "    <tr>\n",
       "      <th>class1</th>\n",
       "      <td>863140</td>\n",
       "      <td>863140</td>\n",
       "    </tr>\n",
       "    <tr>\n",
       "      <th>class2</th>\n",
       "      <td>71834</td>\n",
       "      <td>71834</td>\n",
       "    </tr>\n",
       "    <tr>\n",
       "      <th>class3</th>\n",
       "      <td>410</td>\n",
       "      <td>410</td>\n",
       "    </tr>\n",
       "    <tr>\n",
       "      <th>class4</th>\n",
       "      <td>84445</td>\n",
       "      <td>84445</td>\n",
       "    </tr>\n",
       "    <tr>\n",
       "      <th>class5</th>\n",
       "      <td>2713428</td>\n",
       "      <td>2713428</td>\n",
       "    </tr>\n",
       "  </tbody>\n",
       "</table>\n",
       "</div>"
      ],
      "text/plain": [
       "            lat     long\n",
       "class                   \n",
       "class1   863140   863140\n",
       "class2    71834    71834\n",
       "class3      410      410\n",
       "class4    84445    84445\n",
       "class5  2713428  2713428"
      ]
     },
     "execution_count": 355,
     "metadata": {},
     "output_type": "execute_result"
    }
   ],
   "source": [
    "%%time\n",
    "(ddf.\n",
    " groupby('class').\n",
    " count().\n",
    " compute()) # Dask"
   ]
  },
  {
   "cell_type": "code",
   "execution_count": 356,
   "metadata": {
    "collapsed": false
   },
   "outputs": [
    {
     "name": "stdout",
     "output_type": "stream",
     "text": [
      "CPU times: user 2.38 s, sys: 47 ms, total: 2.42 s\n",
      "Wall time: 806 ms\n"
     ]
    },
    {
     "data": {
      "text/html": [
       "<div style=\"max-height:1000px;max-width:1500px;overflow:auto;\"><table frame=\"box\" rules=\"cols\">\n",
       "    <tr>\n",
       "        <th style=\"padding-left: 1em; padding-right: 1em; text-align: center\">class</th>\n",
       "        <th style=\"padding-left: 1em; padding-right: 1em; text-align: center\">lat</th>\n",
       "        <th style=\"padding-left: 1em; padding-right: 1em; text-align: center\">long</th>\n",
       "    </tr>\n",
       "    <tr>\n",
       "        <td style=\"padding-left: 1em; padding-right: 1em; text-align: center; vertical-align: top\">class5</td>\n",
       "        <td style=\"padding-left: 1em; padding-right: 1em; text-align: center; vertical-align: top\">2713428</td>\n",
       "        <td style=\"padding-left: 1em; padding-right: 1em; text-align: center; vertical-align: top\">2713428</td>\n",
       "    </tr>\n",
       "    <tr>\n",
       "        <td style=\"padding-left: 1em; padding-right: 1em; text-align: center; vertical-align: top\">class3</td>\n",
       "        <td style=\"padding-left: 1em; padding-right: 1em; text-align: center; vertical-align: top\">410</td>\n",
       "        <td style=\"padding-left: 1em; padding-right: 1em; text-align: center; vertical-align: top\">410</td>\n",
       "    </tr>\n",
       "    <tr>\n",
       "        <td style=\"padding-left: 1em; padding-right: 1em; text-align: center; vertical-align: top\">class1</td>\n",
       "        <td style=\"padding-left: 1em; padding-right: 1em; text-align: center; vertical-align: top\">863138</td>\n",
       "        <td style=\"padding-left: 1em; padding-right: 1em; text-align: center; vertical-align: top\">863138</td>\n",
       "    </tr>\n",
       "    <tr>\n",
       "        <td style=\"padding-left: 1em; padding-right: 1em; text-align: center; vertical-align: top\">class2</td>\n",
       "        <td style=\"padding-left: 1em; padding-right: 1em; text-align: center; vertical-align: top\">71834</td>\n",
       "        <td style=\"padding-left: 1em; padding-right: 1em; text-align: center; vertical-align: top\">71834</td>\n",
       "    </tr>\n",
       "    <tr>\n",
       "        <td style=\"padding-left: 1em; padding-right: 1em; text-align: center; vertical-align: top\">class4</td>\n",
       "        <td style=\"padding-left: 1em; padding-right: 1em; text-align: center; vertical-align: top\">84445</td>\n",
       "        <td style=\"padding-left: 1em; padding-right: 1em; text-align: center; vertical-align: top\">84445</td>\n",
       "    </tr>\n",
       "</table>\n",
       "[5 rows x 3 columns]<br/>\n",
       "</div>"
      ],
      "text/plain": [
       "Columns:\n",
       "\tclass\tstr\n",
       "\tlat\tint\n",
       "\tlong\tint\n",
       "\n",
       "Rows: 5\n",
       "\n",
       "Data:\n",
       "+--------+---------+---------+\n",
       "| class  |   lat   |   long  |\n",
       "+--------+---------+---------+\n",
       "| class5 | 2713428 | 2713428 |\n",
       "| class3 |   410   |   410   |\n",
       "| class1 |  863138 |  863138 |\n",
       "| class2 |  71834  |  71834  |\n",
       "| class4 |  84445  |  84445  |\n",
       "+--------+---------+---------+\n",
       "[5 rows x 3 columns]"
      ]
     },
     "execution_count": 356,
     "metadata": {},
     "output_type": "execute_result"
    }
   ],
   "source": [
    "%%time\n",
    "(sdf.\n",
    " groupby(key_columns='class',\n",
    "         operations={'lat': agg.COUNT(),\n",
    "                     'long': agg.COUNT()})) # SFrame"
   ]
  },
  {
   "cell_type": "markdown",
   "metadata": {},
   "source": [
    "# Transform Big"
   ]
  },
  {
   "cell_type": "code",
   "execution_count": 357,
   "metadata": {
    "collapsed": false
   },
   "outputs": [
    {
     "name": "stdout",
     "output_type": "stream",
     "text": [
      "CPU times: user 39 s, sys: 1min 8s, total: 1min 47s\n",
      "Wall time: 2min 33s\n"
     ]
    },
    {
     "data": {
      "text/html": [
       "<div>\n",
       "<table border=\"1\" class=\"dataframe\">\n",
       "  <thead>\n",
       "    <tr style=\"text-align: right;\">\n",
       "      <th></th>\n",
       "      <th>lat</th>\n",
       "      <th>long</th>\n",
       "    </tr>\n",
       "    <tr>\n",
       "      <th>class</th>\n",
       "      <th></th>\n",
       "      <th></th>\n",
       "    </tr>\n",
       "  </thead>\n",
       "  <tbody>\n",
       "    <tr>\n",
       "      <th>class1</th>\n",
       "      <td>120839320</td>\n",
       "      <td>120839320</td>\n",
       "    </tr>\n",
       "    <tr>\n",
       "      <th>class2</th>\n",
       "      <td>10056760</td>\n",
       "      <td>10056760</td>\n",
       "    </tr>\n",
       "    <tr>\n",
       "      <th>class3</th>\n",
       "      <td>57400</td>\n",
       "      <td>57400</td>\n",
       "    </tr>\n",
       "    <tr>\n",
       "      <th>class4</th>\n",
       "      <td>11822300</td>\n",
       "      <td>11822300</td>\n",
       "    </tr>\n",
       "    <tr>\n",
       "      <th>class5</th>\n",
       "      <td>379879920</td>\n",
       "      <td>379879920</td>\n",
       "    </tr>\n",
       "  </tbody>\n",
       "</table>\n",
       "</div>"
      ],
      "text/plain": [
       "              lat       long\n",
       "class                       \n",
       "class1  120839320  120839320\n",
       "class2   10056760   10056760\n",
       "class3      57400      57400\n",
       "class4   11822300   11822300\n",
       "class5  379879920  379879920"
      ]
     },
     "execution_count": 357,
     "metadata": {},
     "output_type": "execute_result"
    }
   ],
   "source": [
    "%%time\n",
    "(bpdf.\n",
    " groupby('class').\n",
    " count()) # Pandas"
   ]
  },
  {
   "cell_type": "code",
   "execution_count": 358,
   "metadata": {
    "collapsed": false
   },
   "outputs": [
    {
     "name": "stdout",
     "output_type": "stream",
     "text": [
      "CPU times: user 8min 33s, sys: 1min 36s, total: 10min 10s\n",
      "Wall time: 4min 41s\n"
     ]
    },
    {
     "data": {
      "text/html": [
       "<div>\n",
       "<table border=\"1\" class=\"dataframe\">\n",
       "  <thead>\n",
       "    <tr style=\"text-align: right;\">\n",
       "      <th></th>\n",
       "      <th>lat</th>\n",
       "      <th>long</th>\n",
       "    </tr>\n",
       "    <tr>\n",
       "      <th>class</th>\n",
       "      <th></th>\n",
       "      <th></th>\n",
       "    </tr>\n",
       "  </thead>\n",
       "  <tbody>\n",
       "    <tr>\n",
       "      <th>class1</th>\n",
       "      <td>120839671</td>\n",
       "      <td>120839671</td>\n",
       "    </tr>\n",
       "    <tr>\n",
       "      <th>class2</th>\n",
       "      <td>10056760</td>\n",
       "      <td>10056760</td>\n",
       "    </tr>\n",
       "    <tr>\n",
       "      <th>class3</th>\n",
       "      <td>57400</td>\n",
       "      <td>57400</td>\n",
       "    </tr>\n",
       "    <tr>\n",
       "      <th>class4</th>\n",
       "      <td>11822300</td>\n",
       "      <td>11822300</td>\n",
       "    </tr>\n",
       "    <tr>\n",
       "      <th>class5</th>\n",
       "      <td>379879920</td>\n",
       "      <td>379879920</td>\n",
       "    </tr>\n",
       "  </tbody>\n",
       "</table>\n",
       "</div>"
      ],
      "text/plain": [
       "              lat       long\n",
       "class                       \n",
       "class1  120839671  120839671\n",
       "class2   10056760   10056760\n",
       "class3      57400      57400\n",
       "class4   11822300   11822300\n",
       "class5  379879920  379879920"
      ]
     },
     "execution_count": 358,
     "metadata": {},
     "output_type": "execute_result"
    }
   ],
   "source": [
    "%%time\n",
    "(bddf.\n",
    " groupby('class').\n",
    " count().\n",
    " compute()) # Dask"
   ]
  },
  {
   "cell_type": "code",
   "execution_count": 359,
   "metadata": {
    "collapsed": false
   },
   "outputs": [
    {
     "name": "stdout",
     "output_type": "stream",
     "text": [
      "CPU times: user 6min 14s, sys: 3.19 s, total: 6min 17s\n",
      "Wall time: 2min 18s\n"
     ]
    },
    {
     "data": {
      "text/html": [
       "<div style=\"max-height:1000px;max-width:1500px;overflow:auto;\"><table frame=\"box\" rules=\"cols\">\n",
       "    <tr>\n",
       "        <th style=\"padding-left: 1em; padding-right: 1em; text-align: center\">class</th>\n",
       "        <th style=\"padding-left: 1em; padding-right: 1em; text-align: center\">lat</th>\n",
       "        <th style=\"padding-left: 1em; padding-right: 1em; text-align: center\">long</th>\n",
       "    </tr>\n",
       "    <tr>\n",
       "        <td style=\"padding-left: 1em; padding-right: 1em; text-align: center; vertical-align: top\">class5</td>\n",
       "        <td style=\"padding-left: 1em; padding-right: 1em; text-align: center; vertical-align: top\">379879920</td>\n",
       "        <td style=\"padding-left: 1em; padding-right: 1em; text-align: center; vertical-align: top\">379879920</td>\n",
       "    </tr>\n",
       "    <tr>\n",
       "        <td style=\"padding-left: 1em; padding-right: 1em; text-align: center; vertical-align: top\">class3</td>\n",
       "        <td style=\"padding-left: 1em; padding-right: 1em; text-align: center; vertical-align: top\">57400</td>\n",
       "        <td style=\"padding-left: 1em; padding-right: 1em; text-align: center; vertical-align: top\">57400</td>\n",
       "    </tr>\n",
       "    <tr>\n",
       "        <td style=\"padding-left: 1em; padding-right: 1em; text-align: center; vertical-align: top\">class1</td>\n",
       "        <td style=\"padding-left: 1em; padding-right: 1em; text-align: center; vertical-align: top\">120839320</td>\n",
       "        <td style=\"padding-left: 1em; padding-right: 1em; text-align: center; vertical-align: top\">120839320</td>\n",
       "    </tr>\n",
       "    <tr>\n",
       "        <td style=\"padding-left: 1em; padding-right: 1em; text-align: center; vertical-align: top\">class2</td>\n",
       "        <td style=\"padding-left: 1em; padding-right: 1em; text-align: center; vertical-align: top\">10056760</td>\n",
       "        <td style=\"padding-left: 1em; padding-right: 1em; text-align: center; vertical-align: top\">10056760</td>\n",
       "    </tr>\n",
       "    <tr>\n",
       "        <td style=\"padding-left: 1em; padding-right: 1em; text-align: center; vertical-align: top\">class4</td>\n",
       "        <td style=\"padding-left: 1em; padding-right: 1em; text-align: center; vertical-align: top\">11822300</td>\n",
       "        <td style=\"padding-left: 1em; padding-right: 1em; text-align: center; vertical-align: top\">11822300</td>\n",
       "    </tr>\n",
       "</table>\n",
       "[5 rows x 3 columns]<br/>\n",
       "</div>"
      ],
      "text/plain": [
       "Columns:\n",
       "\tclass\tstr\n",
       "\tlat\tint\n",
       "\tlong\tint\n",
       "\n",
       "Rows: 5\n",
       "\n",
       "Data:\n",
       "+--------+-----------+-----------+\n",
       "| class  |    lat    |    long   |\n",
       "+--------+-----------+-----------+\n",
       "| class5 | 379879920 | 379879920 |\n",
       "| class3 |   57400   |   57400   |\n",
       "| class1 | 120839320 | 120839320 |\n",
       "| class2 |  10056760 |  10056760 |\n",
       "| class4 |  11822300 |  11822300 |\n",
       "+--------+-----------+-----------+\n",
       "[5 rows x 3 columns]"
      ]
     },
     "execution_count": 359,
     "metadata": {},
     "output_type": "execute_result"
    }
   ],
   "source": [
    "%%time\n",
    "(bssf.\n",
    " groupby(key_columns='class',\n",
    "         operations={'lat': agg.COUNT(),\n",
    "                     'long': agg.COUNT()})) # SFrame"
   ]
  }
 ],
 "metadata": {
  "kernelspec": {
   "display_name": "Python 2",
   "language": "python",
   "name": "python2"
  },
  "language_info": {
   "codemirror_mode": {
    "name": "ipython",
    "version": 2
   },
   "file_extension": ".py",
   "mimetype": "text/x-python",
   "name": "python",
   "nbconvert_exporter": "python",
   "pygments_lexer": "ipython2",
   "version": "2.7.12"
  }
 },
 "nbformat": 4,
 "nbformat_minor": 0
}
